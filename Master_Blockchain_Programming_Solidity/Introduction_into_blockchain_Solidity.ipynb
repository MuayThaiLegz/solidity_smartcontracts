{
 "cells": [
  {
   "cell_type": "code",
   "execution_count": null,
   "id": "4606169b",
   "metadata": {},
   "outputs": [],
   "source": [
    "\"\"\"\n",
    "# Getting started with solidty smart contracts:\n",
    "    Structure of a contract:\n",
    "        1. Gloabl state vairables of contract\n",
    "        2. Enum types\n",
    "        3. Struct types\n",
    "        4. Function mo\n",
    "\n",
    "\n",
    "\n",
    "\"\"\""
   ]
  }
 ],
 "metadata": {
  "kernelspec": {
   "display_name": "dev",
   "language": "python",
   "name": "dev"
  },
  "language_info": {
   "codemirror_mode": {
    "name": "ipython",
    "version": 3
   },
   "file_extension": ".py",
   "mimetype": "text/x-python",
   "name": "python",
   "nbconvert_exporter": "python",
   "pygments_lexer": "ipython3",
   "version": "3.7.11"
  }
 },
 "nbformat": 4,
 "nbformat_minor": 5
}
